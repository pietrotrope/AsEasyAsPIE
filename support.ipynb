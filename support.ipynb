{
 "cells": [
  {
   "cell_type": "code",
   "execution_count": 1,
   "metadata": {},
   "outputs": [],
   "source": [
    "import json\n",
    "\n",
    "i = 0\n",
    "for dataset in [\"AAPD\"]:\n",
    "    for architecture in [\"BERT\", \"BiLSTM\"]:\n",
    "        for pruner in [\"IMP\",\"IBP\", \"Random\", \"IMP-WR\", \"IBP-WR\",\"Random-WR\",\"IMP_ini\",\"IBP_ini\",\"Random_ini\"]:\n",
    "            for thr in [\"20\", \"50\", \"70\", \"90\", \"99\"]:\n",
    "                to_create = {\n",
    "                    str(i):{\n",
    "                        \"dataset\": dataset,\n",
    "                        \"architecture\": architecture,\n",
    "                        \"pruner\": pruner,\n",
    "                        \"pruning_threshold\": thr,\n",
    "                        \"noise\": \"0\",\n",
    "                        \"seeds\": \"30\",\n",
    "                        \"hyperparameter_tuning\": False\n",
    "                    }\n",
    "                }\n",
    "\n",
    "                with open(\"aapd/recipes_\"+dataset.lower()+\"_\"+architecture.lower()+\"_\"+pruner+\"_\"+thr+\".json\", \"w\") as outfile:\n",
    "                    json.dump(to_create, outfile)\n",
    "                \n",
    "    "
   ]
  },
  {
   "cell_type": "code",
   "execution_count": 8,
   "metadata": {},
   "outputs": [],
   "source": [
    "for architecture in [\"BERT\", \"BiLSTM\"]:\n",
    "    to_create = {\n",
    "                str(i):{\n",
    "                    \"dataset\": \"AAPD\",\n",
    "                    \"architecture\": architecture,\n",
    "                    \"pruner\": \"NoPruner\",\n",
    "                    \"pruning_threshold\": \"0\",\n",
    "                    \"noise\": \"0\",\n",
    "                    \"seeds\": \"30\",\n",
    "                    \"hyperparameter_tuning\": False\n",
    "                }\n",
    "            }\n",
    "\n",
    "\n",
    "    with open(\"aapd/recipes_aapd_\"+architecture.lower()+\"_NoPruner.json\", \"w\") as outfile:\n",
    "                        json.dump(to_create, outfile)\n",
    "                "
   ]
  },
  {
   "cell_type": "code",
   "execution_count": 4,
   "metadata": {},
   "outputs": [
    {
     "name": "stdout",
     "output_type": "stream",
     "text": [
      "['aapd/recipes_aapd_bert_IMP_20', 'aapd/recipes_aapd_bert_IMP_50', 'aapd/recipes_aapd_bert_IMP_70', 'aapd/recipes_aapd_bert_IMP_90', 'aapd/recipes_aapd_bert_IMP_99', 'aapd/recipes_aapd_bert_IBP_20', 'aapd/recipes_aapd_bert_IBP_50', 'aapd/recipes_aapd_bert_IBP_70', 'aapd/recipes_aapd_bert_IBP_90', 'aapd/recipes_aapd_bert_IBP_99', 'aapd/recipes_aapd_bert_Random_20', 'aapd/recipes_aapd_bert_Random_50', 'aapd/recipes_aapd_bert_Random_70', 'aapd/recipes_aapd_bert_Random_90', 'aapd/recipes_aapd_bert_Random_99', 'aapd/recipes_aapd_bert_IMP-WR_20', 'aapd/recipes_aapd_bert_IMP-WR_50', 'aapd/recipes_aapd_bert_IMP-WR_70', 'aapd/recipes_aapd_bert_IMP-WR_90', 'aapd/recipes_aapd_bert_IMP-WR_99', 'aapd/recipes_aapd_bert_IBP-WR_20', 'aapd/recipes_aapd_bert_IBP-WR_50', 'aapd/recipes_aapd_bert_IBP-WR_70', 'aapd/recipes_aapd_bert_IBP-WR_90', 'aapd/recipes_aapd_bert_IBP-WR_99', 'aapd/recipes_aapd_bert_Random-WR_20', 'aapd/recipes_aapd_bert_Random-WR_50', 'aapd/recipes_aapd_bert_Random-WR_70', 'aapd/recipes_aapd_bert_Random-WR_90', 'aapd/recipes_aapd_bert_Random-WR_99', 'aapd/recipes_aapd_bert_IMP_ini_20', 'aapd/recipes_aapd_bert_IMP_ini_50', 'aapd/recipes_aapd_bert_IMP_ini_70', 'aapd/recipes_aapd_bert_IMP_ini_90', 'aapd/recipes_aapd_bert_IMP_ini_99', 'aapd/recipes_aapd_bert_IBP_ini_20', 'aapd/recipes_aapd_bert_IBP_ini_50', 'aapd/recipes_aapd_bert_IBP_ini_70', 'aapd/recipes_aapd_bert_IBP_ini_90', 'aapd/recipes_aapd_bert_IBP_ini_99', 'aapd/recipes_aapd_bert_Random_ini_20', 'aapd/recipes_aapd_bert_Random_ini_50', 'aapd/recipes_aapd_bert_Random_ini_70', 'aapd/recipes_aapd_bert_Random_ini_90', 'aapd/recipes_aapd_bert_Random_ini_99', 'aapd/recipes_aapd_bilstm_IMP_20', 'aapd/recipes_aapd_bilstm_IMP_50', 'aapd/recipes_aapd_bilstm_IMP_70', 'aapd/recipes_aapd_bilstm_IMP_90', 'aapd/recipes_aapd_bilstm_IMP_99', 'aapd/recipes_aapd_bilstm_IBP_20', 'aapd/recipes_aapd_bilstm_IBP_50', 'aapd/recipes_aapd_bilstm_IBP_70', 'aapd/recipes_aapd_bilstm_IBP_90', 'aapd/recipes_aapd_bilstm_IBP_99', 'aapd/recipes_aapd_bilstm_Random_20', 'aapd/recipes_aapd_bilstm_Random_50', 'aapd/recipes_aapd_bilstm_Random_70', 'aapd/recipes_aapd_bilstm_Random_90', 'aapd/recipes_aapd_bilstm_Random_99', 'aapd/recipes_aapd_bilstm_IMP-WR_20', 'aapd/recipes_aapd_bilstm_IMP-WR_50', 'aapd/recipes_aapd_bilstm_IMP-WR_70', 'aapd/recipes_aapd_bilstm_IMP-WR_90', 'aapd/recipes_aapd_bilstm_IMP-WR_99', 'aapd/recipes_aapd_bilstm_IBP-WR_20', 'aapd/recipes_aapd_bilstm_IBP-WR_50', 'aapd/recipes_aapd_bilstm_IBP-WR_70', 'aapd/recipes_aapd_bilstm_IBP-WR_90', 'aapd/recipes_aapd_bilstm_IBP-WR_99', 'aapd/recipes_aapd_bilstm_Random-WR_20', 'aapd/recipes_aapd_bilstm_Random-WR_50', 'aapd/recipes_aapd_bilstm_Random-WR_70', 'aapd/recipes_aapd_bilstm_Random-WR_90', 'aapd/recipes_aapd_bilstm_Random-WR_99', 'aapd/recipes_aapd_bilstm_IMP_ini_20', 'aapd/recipes_aapd_bilstm_IMP_ini_50', 'aapd/recipes_aapd_bilstm_IMP_ini_70', 'aapd/recipes_aapd_bilstm_IMP_ini_90', 'aapd/recipes_aapd_bilstm_IMP_ini_99', 'aapd/recipes_aapd_bilstm_IBP_ini_20', 'aapd/recipes_aapd_bilstm_IBP_ini_50', 'aapd/recipes_aapd_bilstm_IBP_ini_70', 'aapd/recipes_aapd_bilstm_IBP_ini_90', 'aapd/recipes_aapd_bilstm_IBP_ini_99', 'aapd/recipes_aapd_bilstm_Random_ini_20', 'aapd/recipes_aapd_bilstm_Random_ini_50', 'aapd/recipes_aapd_bilstm_Random_ini_70', 'aapd/recipes_aapd_bilstm_Random_ini_90', 'aapd/recipes_aapd_bilstm_Random_ini_99', 'aapd/recipes_aapd_bert_NoPruner', 'aapd/recipes_aapd_bilstm_NoPruner']\n"
     ]
    }
   ],
   "source": [
    "import json\n",
    "\n",
    "all = []\n",
    "names = []\n",
    "\n",
    "i = 0\n",
    "for dataset in [\"AAPD\"]:\n",
    "    for architecture in [\"BERT\", \"BiLSTM\"]:\n",
    "        for pruner in [\"IMP\",\"IBP\", \"Random\", \"IMP-WR\", \"IBP-WR\",\"Random-WR\",\"IMP_ini\",\"IBP_ini\",\"Random_ini\"]:\n",
    "            for thr in [\"20\", \"50\", \"70\", \"90\", \"99\"]:\n",
    "                all.append(\"aapd/recipes_\"+dataset.lower()+\"_\"+architecture.lower()+\"_\"+pruner+\"_\"+thr)\n",
    "\n",
    "                tmp_name = pruner+\"s\"\n",
    "                \n",
    "                if \"ini\" in pruner:\n",
    "                    pruner_t = pruner.split(\"_\")\n",
    "                    tmp_name=pruner_t[0]+\"s_\"+pruner_t[1]\n",
    "\n",
    "                tmp_name = tmp_name.replace(\"Random\",\"random\")                \n",
    "                names.append(dataset+\"_0_\"+architecture+\"_\"+tmp_name+\"_\"+thr)\n",
    "\n",
    "                \n",
    "\n",
    "for architecture in [\"BERT\", \"BiLSTM\"]:\n",
    "    all.append(\"aapd/recipes_aapd_\"+architecture.lower()+\"_NoPruner\")\n",
    "    names.append(dataset+\"_0_\"+architecture+\"_NoPruning_0\")\n",
    "\n",
    "\n",
    "print(all)\n",
    "#print(len(all))"
   ]
  },
  {
   "cell_type": "code",
   "execution_count": 3,
   "metadata": {},
   "outputs": [
    {
     "name": "stdout",
     "output_type": "stream",
     "text": [
      "['AAPD_0_BERT_IMPs_20', 'AAPD_0_BERT_IMPs_50', 'AAPD_0_BERT_IMPs_70', 'AAPD_0_BERT_IMPs_90', 'AAPD_0_BERT_IMPs_99', 'AAPD_0_BERT_IBPs_20', 'AAPD_0_BERT_IBPs_50', 'AAPD_0_BERT_IBPs_70', 'AAPD_0_BERT_IBPs_90', 'AAPD_0_BERT_IBPs_99', 'AAPD_0_BERT_randoms_20', 'AAPD_0_BERT_randoms_50', 'AAPD_0_BERT_randoms_70', 'AAPD_0_BERT_randoms_90', 'AAPD_0_BERT_randoms_99', 'AAPD_0_BERT_IMP-WRs_20', 'AAPD_0_BERT_IMP-WRs_50', 'AAPD_0_BERT_IMP-WRs_70', 'AAPD_0_BERT_IMP-WRs_90', 'AAPD_0_BERT_IMP-WRs_99', 'AAPD_0_BERT_IBP-WRs_20', 'AAPD_0_BERT_IBP-WRs_50', 'AAPD_0_BERT_IBP-WRs_70', 'AAPD_0_BERT_IBP-WRs_90', 'AAPD_0_BERT_IBP-WRs_99', 'AAPD_0_BERT_random-WRs_20', 'AAPD_0_BERT_random-WRs_50', 'AAPD_0_BERT_random-WRs_70', 'AAPD_0_BERT_random-WRs_90', 'AAPD_0_BERT_random-WRs_99', 'AAPD_0_BERT_IMPs_ini_20', 'AAPD_0_BERT_IMPs_ini_50', 'AAPD_0_BERT_IMPs_ini_70', 'AAPD_0_BERT_IMPs_ini_90', 'AAPD_0_BERT_IMPs_ini_99', 'AAPD_0_BERT_IBPs_ini_20', 'AAPD_0_BERT_IBPs_ini_50', 'AAPD_0_BERT_IBPs_ini_70', 'AAPD_0_BERT_IBPs_ini_90', 'AAPD_0_BERT_IBPs_ini_99', 'AAPD_0_BERT_randoms_ini_20', 'AAPD_0_BERT_randoms_ini_50', 'AAPD_0_BERT_randoms_ini_70', 'AAPD_0_BERT_randoms_ini_90', 'AAPD_0_BERT_randoms_ini_99', 'AAPD_0_BiLSTM_IMPs_20', 'AAPD_0_BiLSTM_IMPs_50', 'AAPD_0_BiLSTM_IMPs_70', 'AAPD_0_BiLSTM_IMPs_90', 'AAPD_0_BiLSTM_IMPs_99', 'AAPD_0_BiLSTM_IBPs_20', 'AAPD_0_BiLSTM_IBPs_50', 'AAPD_0_BiLSTM_IBPs_70', 'AAPD_0_BiLSTM_IBPs_90', 'AAPD_0_BiLSTM_IBPs_99', 'AAPD_0_BiLSTM_randoms_20', 'AAPD_0_BiLSTM_randoms_50', 'AAPD_0_BiLSTM_randoms_70', 'AAPD_0_BiLSTM_randoms_90', 'AAPD_0_BiLSTM_randoms_99', 'AAPD_0_BiLSTM_IMP-WRs_20', 'AAPD_0_BiLSTM_IMP-WRs_50', 'AAPD_0_BiLSTM_IMP-WRs_70', 'AAPD_0_BiLSTM_IMP-WRs_90', 'AAPD_0_BiLSTM_IMP-WRs_99', 'AAPD_0_BiLSTM_IBP-WRs_20', 'AAPD_0_BiLSTM_IBP-WRs_50', 'AAPD_0_BiLSTM_IBP-WRs_70', 'AAPD_0_BiLSTM_IBP-WRs_90', 'AAPD_0_BiLSTM_IBP-WRs_99', 'AAPD_0_BiLSTM_random-WRs_20', 'AAPD_0_BiLSTM_random-WRs_50', 'AAPD_0_BiLSTM_random-WRs_70', 'AAPD_0_BiLSTM_random-WRs_90', 'AAPD_0_BiLSTM_random-WRs_99', 'AAPD_0_BiLSTM_IMPs_ini_20', 'AAPD_0_BiLSTM_IMPs_ini_50', 'AAPD_0_BiLSTM_IMPs_ini_70', 'AAPD_0_BiLSTM_IMPs_ini_90', 'AAPD_0_BiLSTM_IMPs_ini_99', 'AAPD_0_BiLSTM_IBPs_ini_20', 'AAPD_0_BiLSTM_IBPs_ini_50', 'AAPD_0_BiLSTM_IBPs_ini_70', 'AAPD_0_BiLSTM_IBPs_ini_90', 'AAPD_0_BiLSTM_IBPs_ini_99', 'AAPD_0_BiLSTM_randoms_ini_20', 'AAPD_0_BiLSTM_randoms_ini_50', 'AAPD_0_BiLSTM_randoms_ini_70', 'AAPD_0_BiLSTM_randoms_ini_90', 'AAPD_0_BiLSTM_randoms_ini_99', 'AAPD_0_BERT_NoPruning_0', 'AAPD_0_BiLSTM_NoPruning_0']\n"
     ]
    }
   ],
   "source": [
    "print(names)"
   ]
  },
  {
   "cell_type": "code",
   "execution_count": 24,
   "metadata": {},
   "outputs": [
    {
     "name": "stdout",
     "output_type": "stream",
     "text": [
      "Tot. experiment collections: 110\n",
      "Remaining experiment collections: 109\n",
      "\n",
      "sbatch launchers/exps_arg.sh aapd/recipes_aapd_bert_IMP_20 aapd/recipes_aapd_bert_IMP_50 aapd/recipes_aapd_bert_IMP_70 aapd/recipes_aapd_bert_IMP_90 aapd/recipes_aapd_bert_IMP_99 aapd/recipes_aapd_bert_IBP_0 aapd/recipes_aapd_bert_IBP_20 aapd/recipes_aapd_bert_IBP_50\n",
      "sbatch launchers/exps_arg.sh aapd/recipes_aapd_bert_IBP_70 aapd/recipes_aapd_bert_IBP_90 aapd/recipes_aapd_bert_IBP_99 aapd/recipes_aapd_bert_Random_0 aapd/recipes_aapd_bert_Random_20 aapd/recipes_aapd_bert_Random_50 aapd/recipes_aapd_bert_Random_70 aapd/recipes_aapd_bert_Random_90\n",
      "sbatch launchers/exps_arg.sh aapd/recipes_aapd_bert_Random_99 aapd/recipes_aapd_bert_IMP-WR_0 aapd/recipes_aapd_bert_IMP-WR_20 aapd/recipes_aapd_bert_IMP-WR_50 aapd/recipes_aapd_bert_IMP-WR_70 aapd/recipes_aapd_bert_IMP-WR_90 aapd/recipes_aapd_bert_IMP-WR_99 aapd/recipes_aapd_bert_IBP-WR_0\n",
      "sbatch launchers/exps_arg.sh aapd/recipes_aapd_bert_IBP-WR_20 aapd/recipes_aapd_bert_IBP-WR_50 aapd/recipes_aapd_bert_IBP-WR_70 aapd/recipes_aapd_bert_IBP-WR_90 aapd/recipes_aapd_bert_IBP-WR_99 aapd/recipes_aapd_bert_Random-WR_0 aapd/recipes_aapd_bert_Random-WR_20 aapd/recipes_aapd_bert_Random-WR_50\n",
      "sbatch launchers/exps_arg.sh aapd/recipes_aapd_bert_Random-WR_70 aapd/recipes_aapd_bert_Random-WR_90 aapd/recipes_aapd_bert_Random-WR_99 aapd/recipes_aapd_bert_IMP_ini_0 aapd/recipes_aapd_bert_IMP_ini_20 aapd/recipes_aapd_bert_IMP_ini_50 aapd/recipes_aapd_bert_IMP_ini_70 aapd/recipes_aapd_bert_IMP_ini_90\n",
      "sbatch launchers/exps_arg.sh aapd/recipes_aapd_bert_IMP_ini_99 aapd/recipes_aapd_bert_IBP_ini_0 aapd/recipes_aapd_bert_IBP_ini_20 aapd/recipes_aapd_bert_IBP_ini_50 aapd/recipes_aapd_bert_IBP_ini_70 aapd/recipes_aapd_bert_IBP_ini_90 aapd/recipes_aapd_bert_IBP_ini_99 aapd/recipes_aapd_bert_Random_ini_0\n",
      "sbatch launchers/exps_arg.sh aapd/recipes_aapd_bert_Random_ini_20 aapd/recipes_aapd_bert_Random_ini_50 aapd/recipes_aapd_bert_Random_ini_70 aapd/recipes_aapd_bert_Random_ini_90 aapd/recipes_aapd_bert_Random_ini_99 aapd/recipes_aapd_bilstm_IMP_0 aapd/recipes_aapd_bilstm_IMP_20 aapd/recipes_aapd_bilstm_IMP_50\n",
      "sbatch launchers/exps_arg.sh aapd/recipes_aapd_bilstm_IMP_70 aapd/recipes_aapd_bilstm_IMP_90 aapd/recipes_aapd_bilstm_IMP_99 aapd/recipes_aapd_bilstm_IBP_0 aapd/recipes_aapd_bilstm_IBP_20 aapd/recipes_aapd_bilstm_IBP_50 aapd/recipes_aapd_bilstm_IBP_70 aapd/recipes_aapd_bilstm_IBP_90\n",
      "sbatch launchers/exps_arg.sh aapd/recipes_aapd_bilstm_IBP_99 aapd/recipes_aapd_bilstm_Random_0 aapd/recipes_aapd_bilstm_Random_20 aapd/recipes_aapd_bilstm_Random_50 aapd/recipes_aapd_bilstm_Random_70 aapd/recipes_aapd_bilstm_Random_90 aapd/recipes_aapd_bilstm_Random_99 aapd/recipes_aapd_bilstm_IMP-WR_0\n",
      "sbatch launchers/exps_arg.sh aapd/recipes_aapd_bilstm_IMP-WR_20 aapd/recipes_aapd_bilstm_IMP-WR_50 aapd/recipes_aapd_bilstm_IMP-WR_70 aapd/recipes_aapd_bilstm_IMP-WR_90 aapd/recipes_aapd_bilstm_IMP-WR_99 aapd/recipes_aapd_bilstm_IBP-WR_0 aapd/recipes_aapd_bilstm_IBP-WR_20 aapd/recipes_aapd_bilstm_IBP-WR_50\n",
      "sbatch launchers/exps_arg.sh aapd/recipes_aapd_bilstm_IBP-WR_70 aapd/recipes_aapd_bilstm_IBP-WR_90 aapd/recipes_aapd_bilstm_IBP-WR_99 aapd/recipes_aapd_bilstm_Random-WR_0 aapd/recipes_aapd_bilstm_Random-WR_20 aapd/recipes_aapd_bilstm_Random-WR_50 aapd/recipes_aapd_bilstm_Random-WR_70 aapd/recipes_aapd_bilstm_Random-WR_90\n",
      "sbatch launchers/exps_arg.sh aapd/recipes_aapd_bilstm_Random-WR_99 aapd/recipes_aapd_bilstm_IMP_ini_0 aapd/recipes_aapd_bilstm_IMP_ini_20 aapd/recipes_aapd_bilstm_IMP_ini_50 aapd/recipes_aapd_bilstm_IMP_ini_70 aapd/recipes_aapd_bilstm_IMP_ini_90 aapd/recipes_aapd_bilstm_IMP_ini_99 aapd/recipes_aapd_bilstm_IBP_ini_0\n",
      "sbatch launchers/exps_arg.sh aapd/recipes_aapd_bilstm_IBP_ini_20 aapd/recipes_aapd_bilstm_IBP_ini_50 aapd/recipes_aapd_bilstm_IBP_ini_70 aapd/recipes_aapd_bilstm_IBP_ini_90 aapd/recipes_aapd_bilstm_IBP_ini_99 aapd/recipes_aapd_bilstm_Random_ini_0 aapd/recipes_aapd_bilstm_Random_ini_20 aapd/recipes_aapd_bilstm_Random_ini_50\n",
      "sbatch launchers/exps_arg.sh aapd/recipes_aapd_bilstm_Random_ini_70 aapd/recipes_aapd_bilstm_Random_ini_90 aapd/recipes_aapd_bilstm_Random_ini_99 aapd/recipes_aapd_bert_NoPruner aapd/recipes_aapd_bilstm_NoPruner None None None\n"
     ]
    }
   ],
   "source": [
    "## Json files problems identifier:\n",
    "import os\n",
    "import json\n",
    "\n",
    "all_exps = ['aapd/recipes_aapd_bert_IMP_0', 'aapd/recipes_aapd_bert_IMP_20', 'aapd/recipes_aapd_bert_IMP_50', 'aapd/recipes_aapd_bert_IMP_70', 'aapd/recipes_aapd_bert_IMP_90', 'aapd/recipes_aapd_bert_IMP_99', 'aapd/recipes_aapd_bert_IBP_0', 'aapd/recipes_aapd_bert_IBP_20', 'aapd/recipes_aapd_bert_IBP_50', 'aapd/recipes_aapd_bert_IBP_70', 'aapd/recipes_aapd_bert_IBP_90', 'aapd/recipes_aapd_bert_IBP_99', 'aapd/recipes_aapd_bert_Random_0', 'aapd/recipes_aapd_bert_Random_20', 'aapd/recipes_aapd_bert_Random_50', 'aapd/recipes_aapd_bert_Random_70', 'aapd/recipes_aapd_bert_Random_90', 'aapd/recipes_aapd_bert_Random_99', 'aapd/recipes_aapd_bert_IMP-WR_0', 'aapd/recipes_aapd_bert_IMP-WR_20', 'aapd/recipes_aapd_bert_IMP-WR_50', 'aapd/recipes_aapd_bert_IMP-WR_70', 'aapd/recipes_aapd_bert_IMP-WR_90', 'aapd/recipes_aapd_bert_IMP-WR_99', 'aapd/recipes_aapd_bert_IBP-WR_0', 'aapd/recipes_aapd_bert_IBP-WR_20', 'aapd/recipes_aapd_bert_IBP-WR_50', 'aapd/recipes_aapd_bert_IBP-WR_70', 'aapd/recipes_aapd_bert_IBP-WR_90', 'aapd/recipes_aapd_bert_IBP-WR_99', 'aapd/recipes_aapd_bert_Random-WR_0', 'aapd/recipes_aapd_bert_Random-WR_20', 'aapd/recipes_aapd_bert_Random-WR_50', 'aapd/recipes_aapd_bert_Random-WR_70', 'aapd/recipes_aapd_bert_Random-WR_90', 'aapd/recipes_aapd_bert_Random-WR_99', 'aapd/recipes_aapd_bert_IMP_ini_0', 'aapd/recipes_aapd_bert_IMP_ini_20', 'aapd/recipes_aapd_bert_IMP_ini_50', 'aapd/recipes_aapd_bert_IMP_ini_70', 'aapd/recipes_aapd_bert_IMP_ini_90', 'aapd/recipes_aapd_bert_IMP_ini_99', 'aapd/recipes_aapd_bert_IBP_ini_0', 'aapd/recipes_aapd_bert_IBP_ini_20', 'aapd/recipes_aapd_bert_IBP_ini_50', 'aapd/recipes_aapd_bert_IBP_ini_70', 'aapd/recipes_aapd_bert_IBP_ini_90', 'aapd/recipes_aapd_bert_IBP_ini_99', 'aapd/recipes_aapd_bert_Random_ini_0', 'aapd/recipes_aapd_bert_Random_ini_20', 'aapd/recipes_aapd_bert_Random_ini_50', 'aapd/recipes_aapd_bert_Random_ini_70', 'aapd/recipes_aapd_bert_Random_ini_90', 'aapd/recipes_aapd_bert_Random_ini_99', 'aapd/recipes_aapd_bilstm_IMP_0', 'aapd/recipes_aapd_bilstm_IMP_20', 'aapd/recipes_aapd_bilstm_IMP_50', 'aapd/recipes_aapd_bilstm_IMP_70', 'aapd/recipes_aapd_bilstm_IMP_90', 'aapd/recipes_aapd_bilstm_IMP_99', 'aapd/recipes_aapd_bilstm_IBP_0', 'aapd/recipes_aapd_bilstm_IBP_20', 'aapd/recipes_aapd_bilstm_IBP_50', 'aapd/recipes_aapd_bilstm_IBP_70', 'aapd/recipes_aapd_bilstm_IBP_90', 'aapd/recipes_aapd_bilstm_IBP_99', 'aapd/recipes_aapd_bilstm_Random_0', 'aapd/recipes_aapd_bilstm_Random_20', 'aapd/recipes_aapd_bilstm_Random_50', 'aapd/recipes_aapd_bilstm_Random_70', 'aapd/recipes_aapd_bilstm_Random_90', 'aapd/recipes_aapd_bilstm_Random_99', 'aapd/recipes_aapd_bilstm_IMP-WR_0', 'aapd/recipes_aapd_bilstm_IMP-WR_20', 'aapd/recipes_aapd_bilstm_IMP-WR_50', 'aapd/recipes_aapd_bilstm_IMP-WR_70', 'aapd/recipes_aapd_bilstm_IMP-WR_90', 'aapd/recipes_aapd_bilstm_IMP-WR_99', 'aapd/recipes_aapd_bilstm_IBP-WR_0', 'aapd/recipes_aapd_bilstm_IBP-WR_20', 'aapd/recipes_aapd_bilstm_IBP-WR_50', 'aapd/recipes_aapd_bilstm_IBP-WR_70', 'aapd/recipes_aapd_bilstm_IBP-WR_90', 'aapd/recipes_aapd_bilstm_IBP-WR_99', 'aapd/recipes_aapd_bilstm_Random-WR_0', 'aapd/recipes_aapd_bilstm_Random-WR_20', 'aapd/recipes_aapd_bilstm_Random-WR_50', 'aapd/recipes_aapd_bilstm_Random-WR_70', 'aapd/recipes_aapd_bilstm_Random-WR_90', 'aapd/recipes_aapd_bilstm_Random-WR_99', 'aapd/recipes_aapd_bilstm_IMP_ini_0', 'aapd/recipes_aapd_bilstm_IMP_ini_20', 'aapd/recipes_aapd_bilstm_IMP_ini_50', 'aapd/recipes_aapd_bilstm_IMP_ini_70', 'aapd/recipes_aapd_bilstm_IMP_ini_90', 'aapd/recipes_aapd_bilstm_IMP_ini_99', 'aapd/recipes_aapd_bilstm_IBP_ini_0', 'aapd/recipes_aapd_bilstm_IBP_ini_20', 'aapd/recipes_aapd_bilstm_IBP_ini_50', 'aapd/recipes_aapd_bilstm_IBP_ini_70', 'aapd/recipes_aapd_bilstm_IBP_ini_90', 'aapd/recipes_aapd_bilstm_IBP_ini_99', 'aapd/recipes_aapd_bilstm_Random_ini_0', 'aapd/recipes_aapd_bilstm_Random_ini_20', 'aapd/recipes_aapd_bilstm_Random_ini_50', 'aapd/recipes_aapd_bilstm_Random_ini_70', 'aapd/recipes_aapd_bilstm_Random_ini_90', 'aapd/recipes_aapd_bilstm_Random_ini_99', 'aapd/recipes_aapd_bert_NoPruner', 'aapd/recipes_aapd_bilstm_NoPruner']\n",
    "names = ['AAPD_0_BERT_IMPs_0', 'AAPD_0_BERT_IMPs_20', 'AAPD_0_BERT_IMPs_50', 'AAPD_0_BERT_IMPs_70', 'AAPD_0_BERT_IMPs_90', 'AAPD_0_BERT_IMPs_99', 'AAPD_0_BERT_IBPs_0', 'AAPD_0_BERT_IBPs_20', 'AAPD_0_BERT_IBPs_50', 'AAPD_0_BERT_IBPs_70', 'AAPD_0_BERT_IBPs_90', 'AAPD_0_BERT_IBPs_99', 'AAPD_0_BERT_randoms_0', 'AAPD_0_BERT_randoms_20', 'AAPD_0_BERT_randoms_50', 'AAPD_0_BERT_randoms_70', 'AAPD_0_BERT_randoms_90', 'AAPD_0_BERT_randoms_99', 'AAPD_0_BERT_IMP-WRs_0', 'AAPD_0_BERT_IMP-WRs_20', 'AAPD_0_BERT_IMP-WRs_50', 'AAPD_0_BERT_IMP-WRs_70', 'AAPD_0_BERT_IMP-WRs_90', 'AAPD_0_BERT_IMP-WRs_99', 'AAPD_0_BERT_IBP-WRs_0', 'AAPD_0_BERT_IBP-WRs_20', 'AAPD_0_BERT_IBP-WRs_50', 'AAPD_0_BERT_IBP-WRs_70', 'AAPD_0_BERT_IBP-WRs_90', 'AAPD_0_BERT_IBP-WRs_99', 'AAPD_0_BERT_random-WRs_0', 'AAPD_0_BERT_random-WRs_20', 'AAPD_0_BERT_random-WRs_50', 'AAPD_0_BERT_random-WRs_70', 'AAPD_0_BERT_random-WRs_90', 'AAPD_0_BERT_random-WRs_99', 'AAPD_0_BERT_IMPs_ini_0', 'AAPD_0_BERT_IMPs_ini_20', 'AAPD_0_BERT_IMPs_ini_50', 'AAPD_0_BERT_IMPs_ini_70', 'AAPD_0_BERT_IMPs_ini_90', 'AAPD_0_BERT_IMPs_ini_99', 'AAPD_0_BERT_IBPs_ini_0', 'AAPD_0_BERT_IBPs_ini_20', 'AAPD_0_BERT_IBPs_ini_50', 'AAPD_0_BERT_IBPs_ini_70', 'AAPD_0_BERT_IBPs_ini_90', 'AAPD_0_BERT_IBPs_ini_99', 'AAPD_0_BERT_randoms_ini_0', 'AAPD_0_BERT_randoms_ini_20', 'AAPD_0_BERT_randoms_ini_50', 'AAPD_0_BERT_randoms_ini_70', 'AAPD_0_BERT_randoms_ini_90', 'AAPD_0_BERT_randoms_ini_99', 'AAPD_0_BiLSTM_IMPs_0', 'AAPD_0_BiLSTM_IMPs_20', 'AAPD_0_BiLSTM_IMPs_50', 'AAPD_0_BiLSTM_IMPs_70', 'AAPD_0_BiLSTM_IMPs_90', 'AAPD_0_BiLSTM_IMPs_99', 'AAPD_0_BiLSTM_IBPs_0', 'AAPD_0_BiLSTM_IBPs_20', 'AAPD_0_BiLSTM_IBPs_50', 'AAPD_0_BiLSTM_IBPs_70', 'AAPD_0_BiLSTM_IBPs_90', 'AAPD_0_BiLSTM_IBPs_99', 'AAPD_0_BiLSTM_randoms_0', 'AAPD_0_BiLSTM_randoms_20', 'AAPD_0_BiLSTM_randoms_50', 'AAPD_0_BiLSTM_randoms_70', 'AAPD_0_BiLSTM_randoms_90', 'AAPD_0_BiLSTM_randoms_99', 'AAPD_0_BiLSTM_IMP-WRs_0', 'AAPD_0_BiLSTM_IMP-WRs_20', 'AAPD_0_BiLSTM_IMP-WRs_50', 'AAPD_0_BiLSTM_IMP-WRs_70', 'AAPD_0_BiLSTM_IMP-WRs_90', 'AAPD_0_BiLSTM_IMP-WRs_99', 'AAPD_0_BiLSTM_IBP-WRs_0', 'AAPD_0_BiLSTM_IBP-WRs_20', 'AAPD_0_BiLSTM_IBP-WRs_50', 'AAPD_0_BiLSTM_IBP-WRs_70', 'AAPD_0_BiLSTM_IBP-WRs_90', 'AAPD_0_BiLSTM_IBP-WRs_99', 'AAPD_0_BiLSTM_random-WRs_0', 'AAPD_0_BiLSTM_random-WRs_20', 'AAPD_0_BiLSTM_random-WRs_50', 'AAPD_0_BiLSTM_random-WRs_70', 'AAPD_0_BiLSTM_random-WRs_90', 'AAPD_0_BiLSTM_random-WRs_99', 'AAPD_0_BiLSTM_IMPs_ini_0', 'AAPD_0_BiLSTM_IMPs_ini_20', 'AAPD_0_BiLSTM_IMPs_ini_50', 'AAPD_0_BiLSTM_IMPs_ini_70', 'AAPD_0_BiLSTM_IMPs_ini_90', 'AAPD_0_BiLSTM_IMPs_ini_99', 'AAPD_0_BiLSTM_IBPs_ini_0', 'AAPD_0_BiLSTM_IBPs_ini_20', 'AAPD_0_BiLSTM_IBPs_ini_50', 'AAPD_0_BiLSTM_IBPs_ini_70', 'AAPD_0_BiLSTM_IBPs_ini_90', 'AAPD_0_BiLSTM_IBPs_ini_99', 'AAPD_0_BiLSTM_randoms_ini_0', 'AAPD_0_BiLSTM_randoms_ini_20', 'AAPD_0_BiLSTM_randoms_ini_50', 'AAPD_0_BiLSTM_randoms_ini_70', 'AAPD_0_BiLSTM_randoms_ini_90', 'AAPD_0_BiLSTM_randoms_ini_99', 'AAPD_0_BERT_NoPruning_0', 'AAPD_0_BiLSTM_NoPruning_0']\n",
    "\n",
    "\n",
    "print(\"Tot. experiment collections: \"+str(len(all_exps)))\n",
    "\n",
    "path = \"./testr/\"\n",
    "\n",
    "to_run = []\n",
    "\n",
    "final_sets =[]\n",
    "\n",
    "tot = len(all_exps)\n",
    "\n",
    "for i in range(len(all_exps)):\n",
    "    if not os.path.isfile(path+names[i]+\"/29_measures.json\"):\n",
    "        to_run.append(all_exps[i])\n",
    "        if len(to_run)==8:\n",
    "            final_sets.append(to_run)\n",
    "            to_run=[]\n",
    "    else:\n",
    "        tot-=1\n",
    "\n",
    "if len(to_run)>0 and len(to_run)<8:\n",
    "    while len(to_run)<8:\n",
    "        to_run.append(\"None\")\n",
    "final_sets.append(to_run)\n",
    "\n",
    "print(\"Remaining experiment collections: \"+str(tot))\n",
    "print()\n",
    "\n",
    "texts = []\n",
    "tot = 0\n",
    "for set_e in final_sets:\n",
    "    text = \"sbatch launchers/exps_arg.sh \"\n",
    "\n",
    "    for i in range(8):\n",
    "        if len(set_e)>i:\n",
    "            text+=set_e[i]+\" \"\n",
    "        else:\n",
    "            text+=\"None \"\n",
    "    text=text[:-1]\n",
    "\n",
    "    texts.append(text)\n",
    "    tot+=len(set_e)\n",
    "\n",
    "for text in texts:\n",
    "    print(text)"
   ]
  },
  {
   "cell_type": "code",
   "execution_count": null,
   "metadata": {},
   "outputs": [],
   "source": [
    "from transformers import BertTokenizer, BertModel\n",
    "\n",
    "path = \"./architectures/tokenizers/bert-base-uncased\"\n",
    "path_model = \"./architectures/neuralModels/bert-base-uncased\"\n",
    "\n",
    "tokenizer = BertTokenizer.from_pretrained(\"bert-base-uncased\")\n",
    "tokenizer.save_pretrained(path)\n",
    "\n",
    "model = BertModel.from_pretrained('bert-base-uncased')\n",
    "model.eval()\n",
    "model.save_pretrained(path_model)"
   ]
  }
 ],
 "metadata": {
  "kernelspec": {
   "display_name": "venv",
   "language": "python",
   "name": "python3"
  },
  "language_info": {
   "codemirror_mode": {
    "name": "ipython",
    "version": 3
   },
   "file_extension": ".py",
   "mimetype": "text/x-python",
   "name": "python",
   "nbconvert_exporter": "python",
   "pygments_lexer": "ipython3",
   "version": "3.9.16"
  },
  "orig_nbformat": 4
 },
 "nbformat": 4,
 "nbformat_minor": 2
}
